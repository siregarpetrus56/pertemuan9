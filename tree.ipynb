{
 "cells": [
  {
   "cell_type": "code",
   "execution_count": 4,
   "metadata": {},
   "outputs": [],
   "source": [
    "class TreeNode:\n",
    "    def __init__(self, data, children = []):\n",
    "        self.data = data\n",
    "        self.children = children\n",
    "    \n",
    "    def __str__(self, level=0):\n",
    "        ret = \"  \" * level + str(self.data)  +  \"\\n\"\n",
    "        for child in self.children:\n",
    "            ret += child.__str__(level + 1)\n",
    "        return ret\n",
    "    \n",
    "    def addChild(self, TreeNode):\n",
    "        self.children.append(TreeNode)"
   ]
  },
  {
   "cell_type": "code",
   "execution_count": 5,
   "metadata": {},
   "outputs": [
    {
     "name": "stdout",
     "output_type": "stream",
     "text": [
      "Drinks\n",
      "  Cold\n",
      "    Cola\n",
      "    Fanta\n",
      "  Hot\n",
      "    Tea\n",
      "    Coffee\n",
      "\n"
     ]
    }
   ],
   "source": [
    "tree = TreeNode('Drinks', [])\n",
    "cold = TreeNode('Cold', [])\n",
    "hot = TreeNode('Hot', [])\n",
    "tree.addChild(cold)\n",
    "tree.addChild(hot)\n",
    "tea = TreeNode('Tea', [])\n",
    "coffee = TreeNode('Coffee', [])\n",
    "cola = TreeNode('Cola', [])\n",
    "fanta = TreeNode('Fanta', [])\n",
    "cold.addChild(cola)\n",
    "cold.addChild(fanta)\n",
    "hot.addChild(tea)\n",
    "hot.addChild(coffee)\n",
    "print(tree)\n"
   ]
  },
  {
   "cell_type": "code",
   "execution_count": null,
   "metadata": {},
   "outputs": [],
   "source": []
  }
 ],
 "metadata": {
  "kernelspec": {
   "display_name": "Python 3",
   "language": "python",
   "name": "python3"
  },
  "language_info": {
   "codemirror_mode": {
    "name": "ipython",
    "version": 3
   },
   "file_extension": ".py",
   "mimetype": "text/x-python",
   "name": "python",
   "nbconvert_exporter": "python",
   "pygments_lexer": "ipython3",
   "version": "3.10.10"
  },
  "orig_nbformat": 4
 },
 "nbformat": 4,
 "nbformat_minor": 2
}
