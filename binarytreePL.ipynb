{
 "cells": [
  {
   "cell_type": "code",
   "execution_count": 1,
   "metadata": {},
   "outputs": [
    {
     "name": "stdout",
     "output_type": "stream",
     "text": [
      "The BT has been successfully deleted\n"
     ]
    },
    {
     "ename": "TypeError",
     "evalue": "'NoneType' object is not subscriptable",
     "output_type": "error",
     "traceback": [
      "\u001b[1;31m---------------------------------------------------------------------------\u001b[0m",
      "\u001b[1;31mTypeError\u001b[0m                                 Traceback (most recent call last)",
      "Cell \u001b[1;32mIn[1], line 71\u001b[0m\n\u001b[0;32m     67\u001b[0m newBT\u001b[39m.\u001b[39minsertNode(\u001b[39m\"\u001b[39m\u001b[39mCoffee\u001b[39m\u001b[39m\"\u001b[39m)\n\u001b[0;32m     69\u001b[0m \u001b[39mprint\u001b[39m(newBT\u001b[39m.\u001b[39mdeleteBT())\n\u001b[1;32m---> 71\u001b[0m newBT\u001b[39m.\u001b[39;49mlevelOrderTraversal(\u001b[39m1\u001b[39;49m)\n",
      "Cell \u001b[1;32mIn[1], line 43\u001b[0m, in \u001b[0;36mBinaryTree.levelOrderTraversal\u001b[1;34m(self, index)\u001b[0m\n\u001b[0;32m     41\u001b[0m \u001b[39mdef\u001b[39;00m \u001b[39mlevelOrderTraversal\u001b[39m(\u001b[39mself\u001b[39m, index):\n\u001b[0;32m     42\u001b[0m     \u001b[39mfor\u001b[39;00m i \u001b[39min\u001b[39;00m \u001b[39mrange\u001b[39m(index, \u001b[39mself\u001b[39m\u001b[39m.\u001b[39mlastUsedIndex\u001b[39m+\u001b[39m\u001b[39m1\u001b[39m):\n\u001b[1;32m---> 43\u001b[0m         \u001b[39mprint\u001b[39m(\u001b[39mself\u001b[39;49m\u001b[39m.\u001b[39;49mcustomList[i])\n",
      "\u001b[1;31mTypeError\u001b[0m: 'NoneType' object is not subscriptable"
     ]
    }
   ],
   "source": [
    "class BinaryTree:\n",
    "    def __init__(self, size):\n",
    "        self.customList = size * [None]\n",
    "        self.lastUsedIndex = 0\n",
    "        self.maxSize = size\n",
    "    \n",
    "    def insertNode(self, value):\n",
    "        if self.lastUsedIndex + 1 == self.maxSize:\n",
    "            return \"The Binary Tree is full\"\n",
    "        self.customList[self.lastUsedIndex+1] = value\n",
    "        self.lastUsedIndex += 1\n",
    "        return \"The value has been successfully inserted\"\n",
    "\n",
    "    def searchNode(self, nodeValue):\n",
    "        for i in range(len(self.customList)):\n",
    "            if self.customList[i] == nodeValue:\n",
    "                return \"Success\"\n",
    "        return \"Not found\"\n",
    "    \n",
    "    def preOrderTraversal(self, index):\n",
    "        if index > self.lastUsedIndex:\n",
    "            return\n",
    "        print(self.customList[index])\n",
    "        self.preOrderTraversal(index*2)\n",
    "        self.preOrderTraversal(index*2 + 1)\n",
    "\n",
    "    def inOrderTraversal(self, index):\n",
    "        if index > self.lastUsedIndex:\n",
    "            return\n",
    "        self.inOrderTraversal(index*2)\n",
    "        print(self.customList[index])\n",
    "        self.inOrderTraversal(index*2+1)\n",
    "    \n",
    "    def postOrderTraversal(self, index):\n",
    "        if index > self.lastUsedIndex:\n",
    "            return\n",
    "        self.postOrderTraversal(index*2)\n",
    "        self.postOrderTraversal(index*2+1)\n",
    "        print(self.customList[index])\n",
    "    \n",
    "    def levelOrderTraversal(self, index):\n",
    "        for i in range(index, self.lastUsedIndex+1):\n",
    "            print(self.customList[i])\n",
    "    \n",
    "    def deleteNode(self, value):\n",
    "        if self.lastUsedIndex == 0:\n",
    "            return \"There is not any node to delete\"\n",
    "        for i in range(1, self.lastUsedIndex+1):\n",
    "            if self.customList[i] == value:\n",
    "                self.customList[i] = self.customList[self.lastUsedIndex]\n",
    "                self.customList[self.lastUsedIndex] = None\n",
    "                self.lastUsedIndex -= 1\n",
    "                return \"The node has been successfully deleted\"\n",
    "    \n",
    "    def deleteBT(self):\n",
    "       self.customList = None\n",
    "       return \"The BT has been successfully deleted\"\n",
    "\n",
    "    \n",
    " \n",
    "\n",
    "newBT = BinaryTree(8)\n",
    "newBT.insertNode(\"Drinks\")\n",
    "newBT.insertNode(\"Hot\")\n",
    "newBT.insertNode(\"Cold\")\n",
    "newBT.insertNode(\"Tea\")\n",
    "newBT.insertNode(\"Coffee\")\n",
    "\n",
    "print(newBT.deleteBT())\n",
    "\n",
    "newBT.levelOrderTraversal(1)"
   ]
  }
 ],
 "metadata": {
  "kernelspec": {
   "display_name": "Python 3",
   "language": "python",
   "name": "python3"
  },
  "language_info": {
   "codemirror_mode": {
    "name": "ipython",
    "version": 3
   },
   "file_extension": ".py",
   "mimetype": "text/x-python",
   "name": "python",
   "nbconvert_exporter": "python",
   "pygments_lexer": "ipython3",
   "version": "3.10.10"
  },
  "orig_nbformat": 4
 },
 "nbformat": 4,
 "nbformat_minor": 2
}
